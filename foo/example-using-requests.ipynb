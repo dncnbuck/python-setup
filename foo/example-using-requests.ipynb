{
 "cells": [
  {
   "cell_type": "code",
   "execution_count": 8,
   "id": "ongoing-sixth",
   "metadata": {},
   "outputs": [
    {
     "name": "stdout",
     "output_type": "stream",
     "text": [
      "{'people': 'http://swapi.dev/api/people/', 'planets': 'http://swapi.dev/api/planets/', 'films': 'http://swapi.dev/api/films/', 'species': 'http://swapi.dev/api/species/', 'vehicles': 'http://swapi.dev/api/vehicles/', 'starships': 'http://swapi.dev/api/starships/'}\n"
     ]
    }
   ],
   "source": [
    "import requests\n",
    "\n",
    "data = requests.get(\"https://swapi.dev/api/\")\n",
    "print(data.json()) "
   ]
  }
 ],
 "metadata": {
  "kernelspec": {
   "display_name": "Python 3",
   "language": "python",
   "name": "python3"
  },
  "language_info": {
   "codemirror_mode": {
    "name": "ipython",
    "version": 3
   },
   "file_extension": ".py",
   "mimetype": "text/x-python",
   "name": "python",
   "nbconvert_exporter": "python",
   "pygments_lexer": "ipython3",
   "version": "3.6.10"
  }
 },
 "nbformat": 4,
 "nbformat_minor": 5
}
